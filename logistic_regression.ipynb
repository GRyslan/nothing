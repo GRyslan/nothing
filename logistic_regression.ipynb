{
 "cells": [
  {
   "cell_type": "markdown",
   "metadata": {
    "id": "mxImKw1UhQl7"
   },
   "source": [
    "<a href=\"https://colab.research.google.com/github/YKochura/ai-lab/blob/main/lab3/logistic_regression.ipynb\" target=\"_parent\"><img src=\"https://colab.research.google.com/assets/colab-badge.svg\" alt=\"Open In Colab\"/></a>"
   ]
  },
  {
   "cell_type": "markdown",
   "metadata": {
    "id": "q2XBnP5_Z0pD"
   },
   "source": [
    "**Логістична регресія** &mdash; статистичний регресійний метод, який застосовують для задач бінарної класифікації, тобто, коли модель має віднести вихідне значення (прогноз) до однієї з двох категорій: `0` або `1`. \n",
    "\n",
    "Наприклад, ми можемо за допомогою логістичної регресії передбачити результат складання студентом / студенткою екзамену з цього предмету `{здасть (1) / не здасть (0)}`, використовуючи інформацію про те, скільки часу було витрачено студентом / студенткою на проєкт, скільки лекцій відвідано, скільки практичних здано на оцінку > 7 балів, тощо. Або ж ми можемо за допомогою логістичної моделі класифікувати зображення на дві категорії, наприклад, `кіт (1)` або `собака (0)`.\n",
    " "
   ]
  },
  {
   "cell_type": "markdown",
   "metadata": {
    "id": "b_Lh31rnBI5b"
   },
   "source": [
    "# Модель логістичної регресії\n",
    "\n",
    "Логістичну регресію можна розглядати як одношарову нейронну мережу, яка складається з одного нелінійного нейрона.\n",
    "\n",
    "![](https://docs.google.com/uc?export=download&id=1Abx7cOwNEV0CcFHRVo4XqKMfhgBZeUdS)\n",
    "\n",
    "Метод логістичної регресії заснований на лiнiйнiй регресiї, оскільки використовується однаковий підхід: знаходження лінійної комбінації вхідних ознак (зважена сума) з урахуванням зміщення. Основна віднність між цими методами полягає у тому, що у логістичній регресії до зваженої суми вхідних ознак та зміщення, що фактично є вихідним значенням лінійної регресії, застосовується сигмоїдна функцiя активації, яка перетворює вихiд лiнiйної моделі у вихід логістичної регресії. Іншими словами, вихід (прогноз) логістичної регресії представляє собою дійсне значення, яке лежить у діапазоні вiд 0 до 1 ($\\hat y \\in [0, 1]$). Це значення можна iнтерпретувати як ймовiрнiсть приналежності вхідних даних до певного класу (0 або 1): \n",
    "\n",
    "$$p(y = 1 | z) = \\hat y = \\sigma(z) = g(z) = \\frac{1}{1 + \\exp{(-z)}} $$\n",
    "\n",
    "У випадку, коли нейрон є лінійним, тобто, коли відсутня нелінійна функція активації, тоді на виході отримуємо $\\hat y = z$, що є просто вихідним значення лінійної регресії. \n",
    "\n",
    "## Функції активації\n",
    "Нижче подано деякі загальновживані функції активації (усі нелінійні), які часто використовуються у нейронних мережах.\n",
    "\n",
    "![](https://docs.google.com/uc?export=download&id=1jNGnPUyKH7SoQton8bWAHhmKHkuLtLr4)"
   ]
  },
  {
   "cell_type": "markdown",
   "metadata": {
    "id": "sfQwoDlx-YHi"
   },
   "source": [
    "За характером навчальних даних, метод логістичної регресії відносить до контрольованого навчання (навчання з учителем). Тобто, для кожного прикладу з навчального набору даних заздалегідь підготовлена мітка (label), яка показує приналежніть цих прикладів певного класу.\n",
    "\n",
    "**Дано:**\n",
    "\n",
    "- Навчальний набір: $\\{(\\boldsymbol{X}^{(1)}, y^{(1)}), (\\boldsymbol{X}^{(2)}, y^{(2)}),..., (\\boldsymbol{X}^{(n)}, y^{(n)})\\}$\n",
    "\n",
    "  - де $\\boldsymbol{X}^{(i)}$ &mdash;  $i$-й навчальний приклад. Є $m$-вимірним вектором-стовпцем $\\boldsymbol{X}^{(i)} = (x^{(i)}_1, x^{(i)}_2, ..., x^{(i)}_m)$\n",
    "  - $n$ &mdash; загальна кількість навчальних прикладів\n",
    "  - $y^{(i)}$ &mdash; підготовлена мітка для $i$-го навчального прикладу (бінарна змінна), $y^{(i)} \\in \\{0,1\\}$\n",
    "\n",
    "Модель логістичної регресії можна інтерпретувати як дуже просту нейронну мережу, яка: \n",
    "\n",
    "- має вектор-рядок дійсних значень ваг $\\boldsymbol{W} = \\begin{bmatrix}\n",
    "w_1 & w_2 & \\cdots & w_m\n",
    "\\end{bmatrix}$\n",
    "- має дійсне значення зміщення $b$\n",
    "- використовує сигмоїду в якості активаційної функції"
   ]
  },
  {
   "cell_type": "markdown",
   "metadata": {
    "id": "5wtEFeieFmwI"
   },
   "source": [
    "# Навчання\n",
    "\n",
    "Ми можемо навчити модель, використовуючи градієнтний спуск. Фактично, **градієнтний спуск** або будь-який інший алгоритм оптимізації дозволяє знайти глобальний мінімум цільової функції (усередненої функції втрат на всьому навчальному наборі), якщо підбрано оптимальну швидкість навчання та виконано достатню кількість ітерацій навчання. \n",
    "\n",
    "Навчання моделі логістичної регресії має різні етапи. На початку (крок 0) ініціалізуються параметри моделі. Інші кроки повторюються протягом певної кількості епох (навчальних ітерацій). \n",
    "\n",
    "**Крок 0:** Ініціалізувати ваги та зсув (наприклад, випадковими значеннями з нормального розподілу)\n",
    "\n",
    "**Крок 1:** Обчислити лінійну комбінацію вхідних ознак та ваг, включаючи зсув.  Це можна зробити за один крок для всіх навчальних прикладів, використовуючи [векторизацію (vectorization)](https://www.geeksforgeeks.org/vectorization-in-python/) та  [трансляцію (broadcasting)](https://www.geeksforgeeks.org/python-broadcasting-with-numpy-arrays/)\n",
    "\n",
    "$$z = W \\cdot X + b$$\n",
    "\n",
    "де $\\cdot$ скалярний добуток (поелементний добуток), $W$ &mdash;  вектор-рядок ваг з формою $(1, m)$, $X$ &mdash; матриця форми $(m, n)$.\n",
    "\n",
    "**Крок 2:** Застосувати нелінійну функцію активації (сигмоїду), яка поверне дійсне значення у проміжку між 0 та 1:\n",
    "\n",
    "$$\\hat y  = \\frac{1}{1 + \\exp(-z)}$$\n",
    "\n",
    "**Крок 3:** Обчислити усереднену втрату на всьому навчальному наборі даних. Функцію, яка визначає усереднені втрати на всьому навчальному наборі даних, часто називають цільовою функцією або імпіричним ризиком. Основна задача оптимізаційного алгоритму &mdash;  мінімізувати у процесі навчання цільову функцію на стільки, на скільки це можливо, не втрачаючи при цьому здатності моделі узагальнювати на нових даних. Для задач бінарної класифікації використовують бінарну перехресну втрату ентропії:\n",
    "\n",
    "$$\\mathcal{J}(\\hat y,y)  = - \\frac{1}{n} \\sum_{i=1}^n \\Big[ y^{(i)} \\log(\\hat{y}^{(i)}) + (1 - y^{(i)}) \\log(1 - \\hat{y}^{(i)}) \\Big]$$\n",
    "\n",
    "**Крок 4:** Розрахувати градієнти цільвої функції відносно ваг та зсуву:\n",
    "\n",
    "$$\\boxed{\\begin{aligned}\n",
    "\\frac{\\partial \\mathcal{J}(\\hat y, y)}{\\partial \\hat y} &= \\frac{1}{n} \\big [-\\frac{y}{\\hat y} + \\frac{1- y}{1 - \\hat y} \\big ] \\\\[12pt]\n",
    "\\frac{\\partial \\mathcal{J}(\\hat y, y)}{\\partial z} &= \\frac{\\partial \\mathcal{J}(\\hat y, y)}{\\partial \\hat y} \\frac{\\partial \\hat y}{\\partial z} = \\frac{1}{n} (\\hat y - y)  \\\\[12pt]\n",
    "\\frac{\\partial \\mathcal{J}(\\hat y, y)}{\\partial W} &= \\frac{\\partial \\mathcal{J}(\\hat y, y)}{\\partial \\hat y} \\frac{\\partial \\hat y}{\\partial z} \\frac{\\partial z}{\\partial W} = \\frac{1}{n} X^\\intercal \\cdot (\\hat y - y) \\\\[12pt]\n",
    "\\frac{\\partial \\mathcal{J}(\\hat y, y)}{\\partial b} &=  \\frac{\\partial \\mathcal{J}(\\hat y, y)}{\\partial \\hat y} \\frac{\\partial \\hat y}{\\partial z} \\frac{\\partial z}{\\partial b} = \\frac{1}{n} (\\hat y - y)\n",
    "\\end{aligned}}$$\n",
    "\n",
    "**Крок 5:** Оновити ваги та зсув:\n",
    "\n",
    "$$\\boxed{\\begin{aligned}\n",
    "W &= W - \\alpha \\frac{\\partial \\mathcal{L}(\\hat y, y)}{\\partial W} \\\\[12pt]\n",
    "b &= b - \\alpha \\frac{\\partial \\mathcal{L}(\\hat y, y)}{\\partial b}\n",
    "\\end{aligned}}$$\n",
    "\n",
    "де $\\alpha$ &mdash; швидкість навчання (крок навчання)."
   ]
  },
  {
   "cell_type": "markdown",
   "metadata": {
    "id": "WU31wxOL_iBb"
   },
   "source": [
    "# Імпортупвання бібліотек"
   ]
  },
  {
   "cell_type": "code",
   "execution_count": 1,
   "metadata": {
    "id": "19xicNjUYyKR"
   },
   "outputs": [],
   "source": [
    "import numpy as np # numerical python library for calculus\n",
    "import copy\n",
    "from PIL import Image # image processing in python with Pillow\n",
    "import requests # library for obtaining the requested data from the specific server\n",
    "from matplotlib import pyplot as plt # library for creating static, animated, and interactive visualizations in Python\n",
    "np.random.seed(1) # makes the random numbers predictable"
   ]
  },
  {
   "cell_type": "markdown",
   "metadata": {
    "id": "bRVwKii8_98N"
   },
   "source": [
    "## Зчитуєм зображення та перетворюємо його у NumPy масив "
   ]
  },
  {
   "cell_type": "code",
   "execution_count": 2,
   "metadata": {
    "id": "m1UzCusBypep"
   },
   "outputs": [],
   "source": [
    "image = Image.open(requests.get(\"https://docs.google.com/uc?export=download&id=1DGw_ekhE5uvyw8eq4UR6lEOlUqmM9bx6\", stream=True).raw)\n",
    "image_array = np.array(image)"
   ]
  },
  {
   "cell_type": "markdown",
   "metadata": {
    "id": "Df9GYUGXBDH9"
   },
   "source": [
    "## Переглядаємо зображення"
   ]
  },
  {
   "cell_type": "code",
   "execution_count": 3,
   "metadata": {
    "colab": {
     "base_uri": "https://localhost:8080/",
     "height": 212
    },
    "id": "y_eclhoHTp1F",
    "outputId": "158cb838-f3a0-4407-e7e6-128c940248c7"
   },
   "outputs": [
    {
     "data": {
      "image/png": "[encoded data removed]",
      "text/plain": [
       "<PIL.JpegImagePlugin.JpegImageFile image mode=RGB size=258x195>"
      ]
     },
     "execution_count": 3,
     "metadata": {},
     "output_type": "execute_result"
    }
   ],
   "source": [
    "image"
   ]
  },
  {
   "cell_type": "markdown",
   "metadata": {
    "id": "xFPFq5VoBQ6q"
   },
   "source": [
    "## Перевіряємо форму NumPy масуву для нашого зображення\n",
    "\n",
    "Зображення є кольоровим, тому маємо тривимірний масив: (висота, ширина, RGB)"
   ]
  },
  {
   "cell_type": "code",
   "execution_count": 4,
   "metadata": {
    "colab": {
     "base_uri": "https://localhost:8080/"
    },
    "id": "8Lb3Og0QVmHV",
    "outputId": "05df7854-07de-48bc-c3e6-b583a7304d8e"
   },
   "outputs": [
    {
     "data": {
      "text/plain": [
       "(195, 258, 3)"
      ]
     },
     "execution_count": 4,
     "metadata": {},
     "output_type": "execute_result"
    }
   ],
   "source": [
    "image_array.shape"
   ]
  },
  {
   "cell_type": "markdown",
   "metadata": {
    "id": "sa69IODhCpae"
   },
   "source": [
    "# Конвертуємо зображення в чорно-біле \n",
    "\n",
    "Це дозволить зменшити у три рази кількість вхідних ознак, які будуть використовуватись для навчання логістичної регресії"
   ]
  },
  {
   "cell_type": "code",
   "execution_count": 5,
   "metadata": {
    "id": "uT9Aj7tUVqEi"
   },
   "outputs": [],
   "source": [
    "image_gray = image.convert('L')"
   ]
  },
  {
   "cell_type": "code",
   "execution_count": 6,
   "metadata": {
    "colab": {
     "base_uri": "https://localhost:8080/",
     "height": 212
    },
    "id": "iE9QN6orXAUG",
    "outputId": "1cf79f89-fce6-4afe-d7a3-e78ae3f0dd59"
   },
   "outputs": [
    {
     "data": {
      "image/png": "[encoded data removed]",
      "text/plain": [
       "<PIL.Image.Image image mode=L size=258x195>"
      ]
     },
     "execution_count": 6,
     "metadata": {},
     "output_type": "execute_result"
    }
   ],
   "source": [
    "image_gray"
   ]
  },
  {
   "cell_type": "markdown",
   "metadata": {
    "id": "duTYAySuDPwN"
   },
   "source": [
    "## Перетворюємо чорно-біле зображення у NumPy масив"
   ]
  },
  {
   "cell_type": "code",
   "execution_count": 7,
   "metadata": {
    "id": "qhnstgVXWetz"
   },
   "outputs": [],
   "source": [
    "image_gray_array = np.array(image_gray)"
   ]
  },
  {
   "cell_type": "markdown",
   "metadata": {
    "id": "yMuiSVtBDb0G"
   },
   "source": [
    "## Виводимо NumPy масив чорно-білого зображення та перевіряємо його форму"
   ]
  },
  {
   "cell_type": "code",
   "execution_count": 8,
   "metadata": {
    "colab": {
     "base_uri": "https://localhost:8080/"
    },
    "id": "cJxLXj5OW8hw",
    "outputId": "90e1b607-df0e-404d-a09e-1a28f5c34c73"
   },
   "outputs": [
    {
     "data": {
      "text/plain": [
       "array([[129, 132, 135, ...,   1,   1,   1],\n",
       "       [118, 120, 124, ...,   1,   1,   1],\n",
       "       [110, 112, 116, ...,   1,   1,   1],\n",
       "       ...,\n",
       "       [158, 141, 159, ..., 120, 122, 150],\n",
       "       [168, 150, 165, ..., 116, 126, 154],\n",
       "       [179, 160, 171, ..., 140, 147, 175]], dtype=uint8)"
      ]
     },
     "execution_count": 8,
     "metadata": {},
     "output_type": "execute_result"
    }
   ],
   "source": [
    "image_gray_array"
   ]
  },
  {
   "cell_type": "code",
   "execution_count": 9,
   "metadata": {
    "colab": {
     "base_uri": "https://localhost:8080/"
    },
    "id": "zyflJEa6Wg3c",
    "outputId": "1f804250-6587-4fbc-c301-590b15dab984"
   },
   "outputs": [
    {
     "data": {
      "text/plain": [
       "(195, 258)"
      ]
     },
     "execution_count": 9,
     "metadata": {},
     "output_type": "execute_result"
    }
   ],
   "source": [
    "image_gray_array.shape"
   ]
  },
  {
   "cell_type": "markdown",
   "metadata": {
    "id": "17y8uPZqDvvS"
   },
   "source": [
    "## Змінюємо форму NumPy масиву чорно-білого зображення\n",
    "\n",
    "Маємо на вхід логістичній регресії подати вектор-стовпець ознак з формою (m, 1), де $m = \\text{висота зображення} * \\text{ширина зображення}$. У нашому випадку цими ознаками є кожен піксель чорно-білого зображення.\n"
   ]
  },
  {
   "cell_type": "code",
   "execution_count": 10,
   "metadata": {
    "id": "oA93owXpYjtS"
   },
   "outputs": [],
   "source": [
    "im_reshaped = np.reshape(image_gray_array, (image_gray_array.shape[0] * image_gray_array.shape[1], 1))"
   ]
  },
  {
   "cell_type": "code",
   "execution_count": 11,
   "metadata": {
    "colab": {
     "base_uri": "https://localhost:8080/"
    },
    "id": "Q_EYV_HYY3uk",
    "outputId": "d8f132d2-c52e-42e7-afb1-8ac081fb38ac"
   },
   "outputs": [
    {
     "data": {
      "text/plain": [
       "(50310, 1)"
      ]
     },
     "execution_count": 11,
     "metadata": {},
     "output_type": "execute_result"
    }
   ],
   "source": [
    "im_reshaped.shape"
   ]
  },
  {
   "cell_type": "code",
   "execution_count": 12,
   "metadata": {
    "colab": {
     "base_uri": "https://localhost:8080/"
    },
    "id": "qRpLX_4mZDSz",
    "outputId": "74a0bc9e-d7a7-4201-d719-45902a1018b9"
   },
   "outputs": [
    {
     "data": {
      "text/plain": [
       "array([[129],\n",
       "       [132],\n",
       "       [135],\n",
       "       ...,\n",
       "       [140],\n",
       "       [147],\n",
       "       [175]], dtype=uint8)"
      ]
     },
     "execution_count": 12,
     "metadata": {},
     "output_type": "execute_result"
    }
   ],
   "source": [
    "im_reshaped"
   ]
  },
  {
   "cell_type": "markdown",
   "metadata": {
    "id": "hmLbfJP5Gjb1"
   },
   "source": [
    "### Якщо необхідно, ми можемо переглянути зображення з NumPy масиву"
   ]
  },
  {
   "cell_type": "code",
   "execution_count": 13,
   "metadata": {
    "id": "_ctW_wFP2xDx"
   },
   "outputs": [],
   "source": [
    "im = Image.fromarray(image_gray_array)"
   ]
  },
  {
   "cell_type": "code",
   "execution_count": 14,
   "metadata": {
    "colab": {
     "base_uri": "https://localhost:8080/",
     "height": 212
    },
    "id": "k86OzWhB2cUe",
    "outputId": "e80aac91-4297-4982-eb5a-37d5d6b70924"
   },
   "outputs": [
    {
     "data": {
      "image/png": "[encoded data removed]",
      "text/plain": [
       "<PIL.Image.Image image mode=L size=258x195>"
      ]
     },
     "execution_count": 14,
     "metadata": {},
     "output_type": "execute_result"
    }
   ],
   "source": [
    "im"
   ]
  },
  {
   "cell_type": "markdown",
   "metadata": {
    "id": "dQOTCWu9ICC8"
   },
   "source": [
    "## Нормалізація пікселів зображення\n",
    "\n",
    "Основна мета нормалізації &mdash; зробити обчислення більш ефективними, шляхом масштабування значень пікселів зображення, які будуть лежати у діапазоні від 0 до 1. "
   ]
  },
  {
   "cell_type": "markdown",
   "metadata": {
    "id": "_xVf_uCqJICO"
   },
   "source": [
    "Знайдемо максимальне значення пікселя у нашому масиві"
   ]
  },
  {
   "cell_type": "code",
   "execution_count": 15,
   "metadata": {
    "colab": {
     "base_uri": "https://localhost:8080/"
    },
    "id": "-ONX4rIKJAN0",
    "outputId": "93d5fd16-24a0-4607-a4e5-46a45daab930"
   },
   "outputs": [
    {
     "data": {
      "text/plain": [
       "255"
      ]
     },
     "execution_count": 15,
     "metadata": {},
     "output_type": "execute_result"
    }
   ],
   "source": [
    "im_reshaped.max()"
   ]
  },
  {
   "cell_type": "markdown",
   "metadata": {
    "id": "e8wSHr_dJc0a"
   },
   "source": [
    "Поділими кожне значення пікселя у масиві на максимальне значення"
   ]
  },
  {
   "cell_type": "code",
   "execution_count": 16,
   "metadata": {
    "id": "L-tC4uOjjezv"
   },
   "outputs": [],
   "source": [
    "norm = im_reshaped / 255.0"
   ]
  },
  {
   "cell_type": "code",
   "execution_count": 17,
   "metadata": {
    "colab": {
     "base_uri": "https://localhost:8080/"
    },
    "id": "jVhGegk3jkRl",
    "outputId": "a8735c6b-b335-477c-8800-5c8e5723ed8a"
   },
   "outputs": [
    {
     "data": {
      "text/plain": [
       "array([[0.50588235],\n",
       "       [0.51764706],\n",
       "       [0.52941176],\n",
       "       ...,\n",
       "       [0.54901961],\n",
       "       [0.57647059],\n",
       "       [0.68627451]])"
      ]
     },
     "execution_count": 17,
     "metadata": {},
     "output_type": "execute_result"
    }
   ],
   "source": [
    "norm"
   ]
  },
  {
   "cell_type": "markdown",
   "metadata": {
    "id": "ZPLwu0rWaCeJ"
   },
   "source": [
    "---\n",
    "# Завдання\n",
    "\n",
    "Розглянемо задачу бінарної класифікації зображень: кіт (1) або собака (0). Оскільки на нашому зображенні, яке ми будемо використовувати у якості навчального прикладу для логістичної регресії знаходиться собака, створимо відповідну мітку:"
   ]
  },
  {
   "cell_type": "code",
   "execution_count": 18,
   "metadata": {
    "id": "7XrMhj_baq97"
   },
   "outputs": [],
   "source": [
    "y_true = np.array([[0]])"
   ]
  },
  {
   "cell_type": "code",
   "execution_count": 19,
   "metadata": {
    "colab": {
     "base_uri": "https://localhost:8080/"
    },
    "id": "Dhi_dqeka3-k",
    "outputId": "5e6c2d61-34d5-41aa-fac9-a14d50651c1a"
   },
   "outputs": [
    {
     "data": {
      "text/plain": [
       "(1, 1)"
      ]
     },
     "execution_count": 19,
     "metadata": {},
     "output_type": "execute_result"
    }
   ],
   "source": [
    "y_true.shape"
   ]
  },
  {
   "cell_type": "markdown",
   "metadata": {
    "id": "Qpq48noEKJgY"
   },
   "source": [
    "### Крок 0: Ініціалізувати ваги та зсув"
   ]
  },
  {
   "cell_type": "code",
   "execution_count": 20,
   "metadata": {
    "id": "bfkqaTCL27hF"
   },
   "outputs": [],
   "source": [
    "# TODO\n",
    "def parameters_inititalization():\n",
    "  \"\"\"\n",
    "  Ця функція ініціалізує вектор-рядок випадкових дійсних значень ваг форми (1, 50310), отриманих з нормального розподілу та зсув (довільне дійсне значення)\n",
    "\n",
    "  Повертає:\n",
    "  W -- вектор-рядок ваг форми (1, 50310)\n",
    "  b -- зсув (скаляр)\n",
    "  \"\"\"\n",
    "\n",
    "  # BEGIN_YOUR_CODE\n",
    "  arr = np.random.standard_normal(size=(1,50310))\n",
    "  return arr,3.0;\n",
    "  # END_YOUR_CODE"
   ]
  },
  {
   "cell_type": "code",
   "execution_count": 21,
   "metadata": {},
   "outputs": [],
   "source": [
    "resArr = []"
   ]
  },
  {
   "cell_type": "code",
   "execution_count": 22,
   "metadata": {
    "id": "Cjoi0Pi0eIl9"
   },
   "outputs": [],
   "source": [
    "W, b = parameters_inititalization()"
   ]
  },
  {
   "cell_type": "code",
   "execution_count": 23,
   "metadata": {
    "id": "Z_nNfaRGdLGO"
   },
   "outputs": [
    {
     "data": {
      "text/plain": [
       "array([[ 1.62434536, -0.61175641, -0.52817175, ..., -0.02584146,\n",
       "        -0.15878997, -1.27685482]])"
      ]
     },
     "execution_count": 23,
     "metadata": {},
     "output_type": "execute_result"
    }
   ],
   "source": [
    "W"
   ]
  },
  {
   "cell_type": "code",
   "execution_count": 24,
   "metadata": {
    "id": "AVUfQgU3dRoj"
   },
   "outputs": [
    {
     "data": {
      "text/plain": [
       "(1, 50310)"
      ]
     },
     "execution_count": 24,
     "metadata": {},
     "output_type": "execute_result"
    }
   ],
   "source": [
    "W.shape"
   ]
  },
  {
   "cell_type": "code",
   "execution_count": 25,
   "metadata": {
    "colab": {
     "base_uri": "https://localhost:8080/"
    },
    "id": "PGyt_i05dT_r",
    "outputId": "5a7b36c2-9a1a-4880-cb67-15ab6de3a643"
   },
   "outputs": [
    {
     "data": {
      "text/plain": [
       "3.0"
      ]
     },
     "execution_count": 25,
     "metadata": {},
     "output_type": "execute_result"
    }
   ],
   "source": [
    "b"
   ]
  },
  {
   "cell_type": "markdown",
   "metadata": {
    "id": "SMLPcw7gNZ1d"
   },
   "source": [
    "## Крок 1 та 2\n",
    "\n",
    "### Крок 1: Обчислити лінійну комбінацію вхідних ознак та ваг, включаючи зсув\n",
    "\n",
    "### Крок 2: Застосувати нелінійну функцію активації (сигмоїду) до отриманого значення з крок 1"
   ]
  },
  {
   "cell_type": "code",
   "execution_count": 60,
   "metadata": {
    "id": "sHg5Sh8bdV3J",
    "scrolled": false
   },
   "outputs": [],
   "source": [
    "# TODO\n",
    "def forwardPropagate(X, W, b):\n",
    "  \"\"\"\n",
    "  Ця функція обчислює лінійну комбінацію вхідних ознак та ваг, включаючи зсув і знаходить активаційне значення сигмоїди\n",
    "\n",
    "  Параметри:\n",
    "  X -- вхідний вектор стовпець (у нашому випадку - це чорнобіле зображення собаки) форми (50310, 1)\n",
    "  W -- вектор-рядок ваг моделі форми (1, 50310)\n",
    "  b -- зсув моделі (скаляр)\n",
    "\n",
    "  Повертає:\n",
    "  z -- загальна зважена сума вхідних ознак, включаючи зсув\n",
    "  y_hat -- активаційне значення сигмоїди\n",
    "  \"\"\"\n",
    "  \n",
    "  # BEGIN_YOUR_CODE\n",
    "  z = np.dot(W,X) + b\n",
    "  y_hat = (1.0 /(1.0 + np.exp(-z)))\n",
    "  return z,y_hat\n",
    "\n",
    "  # END_YOUR_CODE"
   ]
  },
  {
   "cell_type": "code",
   "execution_count": 61,
   "metadata": {
    "id": "94IMy1_2dfuQ"
   },
   "outputs": [],
   "source": [
    "z, y_hat = forwardPropagate(norm, W, b)"
   ]
  },
  {
   "cell_type": "code",
   "execution_count": 62,
   "metadata": {
    "id": "JF67K5RJiEux"
   },
   "outputs": [
    {
     "data": {
      "text/plain": [
       "array([[-25.18338327]])"
      ]
     },
     "execution_count": 62,
     "metadata": {},
     "output_type": "execute_result"
    }
   ],
   "source": [
    "z"
   ]
  },
  {
   "cell_type": "code",
   "execution_count": 63,
   "metadata": {
    "id": "8urwc6qKiFQQ"
   },
   "outputs": [
    {
     "data": {
      "text/plain": [
       "array([[1.15610055e-11]])"
      ]
     },
     "execution_count": 63,
     "metadata": {},
     "output_type": "execute_result"
    }
   ],
   "source": [
    "y_hat"
   ]
  },
  {
   "cell_type": "markdown",
   "metadata": {
    "id": "I1L7RqCHOShJ"
   },
   "source": [
    "### Крок 3: Обчислити усереднену втрату на всьому навчальному наборі даних. Цільова функція\n",
    "\n",
    "У нашому випадку ми розглядаємо пряме та зворотне поширення для одного навчального прикладу (зображення)."
   ]
  },
  {
   "cell_type": "code",
   "execution_count": 64,
   "metadata": {
    "id": "YM5DZaGIl-ei"
   },
   "outputs": [],
   "source": [
    "# TODO\n",
    "def cost(n, y_hat, y_true):\n",
    "  \"\"\"\n",
    "  Ця функція обчислює усереднену втрату для задачі бінарної класифікації на всьому навчальному наборі даних\n",
    "\n",
    "  Параметри:\n",
    "  n -- загальна кількість навчальних прикладів (у нашому випадку - це  одне чорнобіле зображення собаки)\n",
    "  y_hat -- активаційне значення сигмоїди (прогноз логістичної регресії)\n",
    "  y_true -- істинний клас зображення (очікувана мітка прогнозу)\n",
    "\n",
    "  Повертає:\n",
    "  J --  усереднена втрата моделі для задачі бінарної класифікації на всьому навчальному наборі даних\n",
    "  \"\"\"\n",
    "\n",
    "  # BEGIN_YOUR_CODE  \n",
    "  epsilon = 1e-5 \n",
    "  return -(y_true*np.log(y_hat+epsilon)+(1.0-y_true)*np.log(1.0-y_hat+epsilon))\n",
    "  # END_YOUR_CODE"
   ]
  },
  {
   "cell_type": "code",
   "execution_count": 65,
   "metadata": {
    "id": "GVuroIbum_4L"
   },
   "outputs": [
    {
     "data": {
      "text/plain": [
       "array([[-9.99993844e-06]])"
      ]
     },
     "execution_count": 65,
     "metadata": {},
     "output_type": "execute_result"
    }
   ],
   "source": [
    "J = cost(1, y_hat, y_true)\n",
    "J"
   ]
  },
  {
   "cell_type": "markdown",
   "metadata": {
    "id": "bapG8TtdP4gK"
   },
   "source": [
    "### Крок 4: Розрахувати градієнти цільвої функції відносно ваг та зсуву"
   ]
  },
  {
   "cell_type": "code",
   "execution_count": 66,
   "metadata": {
    "id": "9K-Vn0mpiGng"
   },
   "outputs": [],
   "source": [
    "# TODO\n",
    "def backwardPropagate(n, X, y_hat, y_true):\n",
    "  \"\"\"\n",
    "  Ця функція обчислює градієнти цільвої функції відносно ваг та зсуву\n",
    "\n",
    "  Параметри:\n",
    "  n -- загальна кількість навчальних прикладів (у нашому випадку - це  одне чорнобіле зображення собаки)\n",
    "  X -- вхідний вектор стовпець (у нашому випадку - це чорнобіле зображення собаки) форми (50310, 1)\n",
    "  y_hat -- активаційне значення сигмоїди (прогноз логістичної регресії)\n",
    "  y_true -- істинний клас зображення (очікувана мітка прогнозу)\n",
    "\n",
    "  Повертає:\n",
    "  dW --  градієнт цільової функції відносно ваг моделі\n",
    "  db -- градієнт цільової функції відносно зсуву моделі\n",
    "  \"\"\"\n",
    "\n",
    "  # BEGIN_YOUR_CODE\n",
    "  dW = np.transpose(X) * (y_hat - y_true)\n",
    "  db = (y_hat - y_true)\n",
    "  return dW,db\n",
    "  # END_YOUR_CODE"
   ]
  },
  {
   "cell_type": "code",
   "execution_count": 67,
   "metadata": {
    "id": "VirkpmD0o-1Q"
   },
   "outputs": [],
   "source": [
    "dW, db = backwardPropagate(1, norm, y_hat, y_true)"
   ]
  },
  {
   "cell_type": "code",
   "execution_count": 68,
   "metadata": {
    "id": "aLjgo0GdpMx0"
   },
   "outputs": [
    {
     "data": {
      "text/plain": [
       "(1, 50310)"
      ]
     },
     "execution_count": 68,
     "metadata": {},
     "output_type": "execute_result"
    }
   ],
   "source": [
    "dW.shape"
   ]
  },
  {
   "cell_type": "code",
   "execution_count": 69,
   "metadata": {
    "id": "8ZBTCeXdqFJA"
   },
   "outputs": [
    {
     "data": {
      "text/plain": [
       "array([[1.15610055e-11]])"
      ]
     },
     "execution_count": 69,
     "metadata": {},
     "output_type": "execute_result"
    }
   ],
   "source": [
    "db"
   ]
  },
  {
   "cell_type": "code",
   "execution_count": 70,
   "metadata": {
    "id": "DAkVSaLesD_8"
   },
   "outputs": [
    {
     "data": {
      "text/plain": [
       "(1, 1)"
      ]
     },
     "execution_count": 70,
     "metadata": {},
     "output_type": "execute_result"
    }
   ],
   "source": [
    "db.shape"
   ]
  },
  {
   "cell_type": "markdown",
   "metadata": {
    "id": "7wzrFBQPSfL5"
   },
   "source": [
    "### Крок 5: Оновити ваги та зсув"
   ]
  },
  {
   "cell_type": "code",
   "execution_count": 71,
   "metadata": {
    "id": "SwacLBbFsKHZ"
   },
   "outputs": [],
   "source": [
    "# TODO\n",
    "def update(alpha, dW, db, W, b):\n",
    "  \"\"\"\n",
    "  Ця функція оновлює навчальні параметри моделі (ваги та зсув ) у напрямку мінімізації цільової функції\n",
    "\n",
    "  Параметри:\n",
    "  alpha -- швидкість  навчання (крок навчання)\n",
    "  dW --  градієнт цільової функції відносно ваг моделі\n",
    "  db -- градієнт цільової функції відносно зсуву моделі\n",
    "  W -- вектор-рядок ваг моделі форми (1, 50310)\n",
    "  b -- зсув моделі (скаляр)\n",
    "\n",
    "  Повертає:\n",
    "  W -- оновлений вектор-рядок ваг моделі форми (1, 50310)\n",
    "  b -- оновлений зсув моделі (скаляр)\n",
    "  \"\"\"\n",
    "\n",
    "\n",
    "  # BEGIN_YOUR_CODE\n",
    "  W -= alpha * dW\n",
    "  b -= alpha * db\n",
    "  return W, b\n",
    "  # END_YOUR_CODE"
   ]
  },
  {
   "cell_type": "code",
   "execution_count": 72,
   "metadata": {
    "id": "7f-dOng9tKRy"
   },
   "outputs": [],
   "source": [
    "W, b = update(0.003, dW, db, W, b)"
   ]
  },
  {
   "cell_type": "code",
   "execution_count": 73,
   "metadata": {
    "id": "X681Y8JatVAi"
   },
   "outputs": [
    {
     "data": {
      "text/plain": [
       "array([[ 1.62282835, -0.61330871, -0.52975933, ..., -0.02748784,\n",
       "        -0.16051866, -1.27891279]])"
      ]
     },
     "execution_count": 73,
     "metadata": {},
     "output_type": "execute_result"
    }
   ],
   "source": [
    "W"
   ]
  },
  {
   "cell_type": "code",
   "execution_count": 74,
   "metadata": {
    "id": "oWrWtkXhtWl4"
   },
   "outputs": [
    {
     "data": {
      "text/plain": [
       "array([[2.99700125]])"
      ]
     },
     "execution_count": 74,
     "metadata": {},
     "output_type": "execute_result"
    }
   ],
   "source": [
    "b"
   ]
  },
  {
   "cell_type": "markdown",
   "metadata": {
    "id": "SwXQUYwaXwic"
   },
   "source": [
    "\n",
    "\n",
    "1.   Повторіть кроки 1-5 та з'ясуйте як зміниться цільова функція, ваги та зсув нашої моделі. Швидкість навчання використовуйте alpha = 0.0001\n",
    "2.   Повторіть кроки 0-5 для більшої швидкості навчання alpha = 0.003. Порівняйте отримані результати для alpha = 0.0001\n",
    "\n"
   ]
  },
  {
   "cell_type": "code",
   "execution_count": 75,
   "metadata": {
    "id": "d3ZTuHsc8VGu"
   },
   "outputs": [],
   "source": [
    "resArr.append(copy.copy(b))"
   ]
  },
  {
   "cell_type": "code",
   "execution_count": 76,
   "metadata": {},
   "outputs": [
    {
     "data": {
      "text/plain": [
       "[array([[2.99700125]]), array([[2.99700125]]), array([[2.99700125]])]"
      ]
     },
     "execution_count": 76,
     "metadata": {},
     "output_type": "execute_result"
    }
   ],
   "source": [
    "resArr"
   ]
  }
 ],
 "metadata": {
  "colab": {
   "name": "logistic_regression.ipynb",
   "provenance": [],
   "toc_visible": true
  },
  "kernelspec": {
   "display_name": "Python 3 (ipykernel)",
   "language": "python",
   "name": "python3"
  },
  "language_info": {
   "codemirror_mode": {
    "name": "ipython",
    "version": 3
   },
   "file_extension": ".py",
   "mimetype": "text/x-python",
   "name": "python",
   "nbconvert_exporter": "python",
   "pygments_lexer": "ipython3",
   "version": "3.10.8"
  }
 },
 "nbformat": 4,
 "nbformat_minor": 1
}
